{
 "cells": [
  {
   "cell_type": "code",
   "execution_count": 2,
   "metadata": {},
   "outputs": [
    {
     "name": "stdout",
     "output_type": "stream",
     "text": [
      "i love you\n"
     ]
    }
   ],
   "source": [
    "def texter(x,y,z):\n",
    "    print(f\"{y} {z} {x}\")\n",
    "\n",
    "a = \"i\"\n",
    "b = \"love\"\n",
    "c = \"you\"\n",
    "\n",
    "texter(c, a, b)"
   ]
  },
  {
   "cell_type": "code",
   "execution_count": 3,
   "metadata": {},
   "outputs": [
    {
     "name": "stdout",
     "output_type": "stream",
     "text": [
      "i love you\n"
     ]
    }
   ],
   "source": [
    "def texter(x,y,z):\n",
    "    print(f\"{y} {z} {x}\")\n",
    "texter(x = \"you\", z = \"love\", y = \"i\")"
   ]
  },
  {
   "cell_type": "code",
   "execution_count": 4,
   "metadata": {},
   "outputs": [
    {
     "name": "stdout",
     "output_type": "stream",
     "text": [
      "-- This parrot wouldn't voom if you put 1000 volts through it.\n",
      "-- Lovely plumage, the Norwegian Blue\n",
      "-- It's a stiff !\n"
     ]
    }
   ],
   "source": [
    "def parrot(voltage, state='a stiff', action='voom', type='Norwegian Blue'):\n",
    "    print(\"-- This parrot wouldn't\", action, end=' ')\n",
    "    print(\"if you put\", voltage, \"volts through it.\")\n",
    "    print(\"-- Lovely plumage, the\", type)\n",
    "    print(\"-- It's\", state, \"!\")\n",
    "\n",
    "parrot(1000)"
   ]
  },
  {
   "cell_type": "code",
   "execution_count": 6,
   "metadata": {},
   "outputs": [
    {
     "name": "stdout",
     "output_type": "stream",
     "text": [
      "even list :  [2, 4, 6, 8]\n",
      "odd list :  [1, 3, 5, 7, 9]\n"
     ]
    }
   ],
   "source": [
    "def slicer(*args):\n",
    "    print(f\"even list : \", [i for i in args if not i%2])\n",
    "    print(f\"odd list : \", [i for i in args if i%2])\n",
    "slicer(1,2,3,4,5,6,7,8,9)"
   ]
  },
  {
   "cell_type": "code",
   "execution_count": 14,
   "metadata": {},
   "outputs": [
    {
     "name": "stdout",
     "output_type": "stream",
     "text": [
      "['Beth', 'Oscar', 'Justin', 'Frank']\n",
      "[26, 42, 18, 33]\n"
     ]
    }
   ],
   "source": [
    "def organizer(**kwargs):\n",
    "    print([i for i in kwargs.keys()])\n",
    "    print([i for i in kwargs.values()])\n",
    "organizer(Beth = 26, Oscar = 42, Justin = 18, Frank = 33)"
   ]
  },
  {
   "cell_type": "code",
   "execution_count": 16,
   "metadata": {},
   "outputs": [
    {
     "name": "stdout",
     "output_type": "stream",
     "text": [
      "For me, Bill Gates and Guido Van Rossum are geniuses\n"
     ]
    }
   ],
   "source": [
    "def merger(i,j,k,l):\n",
    "    print(f\"For me, {i} {l} and {k} {j} are geniuses\")\n",
    "genius = (\"Bill\", \"Rossum\", \"Guido Van\", \"Gates\")\n",
    "merger(*genius)"
   ]
  },
  {
   "cell_type": "code",
   "execution_count": 21,
   "metadata": {},
   "outputs": [
    {
     "name": "stdout",
     "output_type": "stream",
     "text": [
      "Average of the ages are 21.666666666666668\n"
     ]
    }
   ],
   "source": [
    "def meaner(Furkan,Ahmet,Mehmet):\n",
    "    print(f\"Average of the ages are {(Furkan+Mehmet+Ahmet)/3}\")\n",
    "friends = {\"Furkan\" : 15, \"Ahmet\" : 20, \"Mehmet\" : 30}\n",
    "meaner(**friends)"
   ]
  },
  {
   "cell_type": "code",
   "execution_count": 22,
   "metadata": {},
   "outputs": [
    {
     "data": {
      "text/plain": [
       "[('marry', 'fred'), ('bella', 'paul'), ('susan', 'bahadir')]"
      ]
     },
     "execution_count": 22,
     "metadata": {},
     "output_type": "execute_result"
    }
   ],
   "source": [
    "def muruvvet(f,m):\n",
    "    x_list = []\n",
    "    for x in zip(f,m):\n",
    "        x_list.append(x)\n",
    "    return x_list\n",
    "\n",
    "damat_gelin = {\"f\" : [\"marry\", \"bella\", \"susan\"], \"m\" : [\"fred\", \"paul\", \"bahadir\"]}\n",
    "\n",
    "\n",
    "muruvvet(**damat_gelin)\n",
    "\n",
    "\n",
    "\n",
    "[(\"marry\", \"fred\"), (\"bella\", \"paul\"), (\"susan\",\"bahadir\")]"
   ]
  },
  {
   "cell_type": "code",
   "execution_count": 24,
   "metadata": {},
   "outputs": [
    {
     "name": "stdout",
     "output_type": "stream",
     "text": [
      "newlineend 3\n"
     ]
    }
   ],
   "source": [
    "print(\"new\" \"line\" \"end\", 3)"
   ]
  },
  {
   "cell_type": "code",
   "execution_count": null,
   "metadata": {},
   "outputs": [],
   "source": []
  }
 ],
 "metadata": {
  "kernelspec": {
   "display_name": "Python 3",
   "language": "python",
   "name": "python3"
  },
  "language_info": {
   "codemirror_mode": {
    "name": "ipython",
    "version": 3
   },
   "file_extension": ".py",
   "mimetype": "text/x-python",
   "name": "python",
   "nbconvert_exporter": "python",
   "pygments_lexer": "ipython3",
   "version": "3.7.6"
  }
 },
 "nbformat": 4,
 "nbformat_minor": 4
}
