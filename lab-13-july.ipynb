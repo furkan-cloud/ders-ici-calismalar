{
 "cells": [
  {
   "cell_type": "code",
   "execution_count": 1,
   "metadata": {},
   "outputs": [
    {
     "name": "stdout",
     "output_type": "stream",
     "text": [
      "I will stop smoking\n",
      "I will stop smoking\n",
      "I will stop smoking\n",
      "I will stop smoking\n",
      "I will stop smoking\n"
     ]
    }
   ],
   "source": [
    "a = 3\n",
    "while a**2 < 299:\n",
    "    print('I will stop smoking')\n",
    "    a += 3"
   ]
  },
  {
   "cell_type": "code",
   "execution_count": 3,
   "metadata": {},
   "outputs": [
    {
     "name": "stdout",
     "output_type": "stream",
     "text": [
      "please enter a number: 8\n",
      "0\n",
      "1\n",
      "4\n",
      "9\n",
      "16\n",
      "25\n",
      "36\n",
      "49\n"
     ]
    }
   ],
   "source": [
    "num = int(input(\"please enter a number: \"))\n",
    "count = 0\n",
    "while count < num:\n",
    "    print(count**2)\n",
    "    count += 1"
   ]
  },
  {
   "cell_type": "code",
   "execution_count": 5,
   "metadata": {},
   "outputs": [
    {
     "name": "stdout",
     "output_type": "stream",
     "text": [
      "The type of {'section': 5, 'topic': 2} is <class 'dict'>\n",
      "The type of clarusway is <class 'str'>\n",
      "The type of [1, 4] is <class 'list'>\n",
      "The type of 2020 is <class 'int'>\n",
      "The type of 3.14 is <class 'float'>\n",
      "The type of (1+618j) is <class 'complex'>\n",
      "The type of False is <class 'bool'>\n",
      "The type of (10, 20) is <class 'tuple'>\n"
     ]
    }
   ],
   "source": [
    "sample_list = [{\"section\":5, \"topic\":2}, 'clarusway', [1, 4], 2020, 3.14, 1+618j, False, (10, 20)]\n",
    "for i in sample_list:\n",
    "    print(\"The type of\", i, \"is\", type(i))"
   ]
  },
  {
   "cell_type": "code",
   "execution_count": 9,
   "metadata": {},
   "outputs": [
    {
     "name": "stdout",
     "output_type": "stream",
     "text": [
      "Please enter a word: United\n",
      "['U', 'i', 'e']\n"
     ]
    }
   ],
   "source": [
    "word = input(\"Please enter a word: \")\n",
    "vowels = \"aeiou\"\n",
    "liste = []\n",
    "for i in word:\n",
    "    if i.lower() in vowels:\n",
    "        liste.append(i)\n",
    "print(liste)\n",
    "        "
   ]
  },
  {
   "cell_type": "code",
   "execution_count": 14,
   "metadata": {},
   "outputs": [
    {
     "name": "stdout",
     "output_type": "stream",
     "text": [
      "Please enter a word: iiiu\n",
      "{'i', 'u'}\n"
     ]
    }
   ],
   "source": [
    "word = input(\"Please enter a word: \")\n",
    "vowels = \"aeiou\"\n",
    "char = {i for i in word if i.lower() in vowels}\n",
    "print(char)"
   ]
  },
  {
   "cell_type": "code",
   "execution_count": 16,
   "metadata": {},
   "outputs": [
    {
     "name": "stdout",
     "output_type": "stream",
     "text": [
      "{'i', 'a'}\n"
     ]
    }
   ],
   "source": [
    "vowels = ['a','e','i','o','u','A','E','I','O','U']\n",
    "set_vowels = set()\n",
    "word = 'ankaralimisin'\n",
    "for i in word:\n",
    "    if i in vowels:\n",
    "        set_vowels.add(i)\n",
    "print(set_vowels)"
   ]
  },
  {
   "cell_type": "code",
   "execution_count": 19,
   "metadata": {},
   "outputs": [
    {
     "name": "stdout",
     "output_type": "stream",
     "text": [
      "[105, 126, 147, 168, 189, 210, 231, 252, 273, 294, 315, 336, 357, 378, 399, 420, 441, 462, 483]\n"
     ]
    }
   ],
   "source": [
    "print([i for i in range(100,501) if i % 7 == 0 and i % 3 == 0])"
   ]
  },
  {
   "cell_type": "code",
   "execution_count": 18,
   "metadata": {},
   "outputs": [
    {
     "name": "stdout",
     "output_type": "stream",
     "text": [
      "[105, 126, 147, 168, 189, 210, 231, 252, 273, 294, 315, 336, 357, 378, 399, 420, 441, 462, 483]\n"
     ]
    }
   ],
   "source": [
    "char = [i for i in range(100,501) if not i%7 and not i%3]\n",
    "print(char)"
   ]
  },
  {
   "cell_type": "code",
   "execution_count": 21,
   "metadata": {},
   "outputs": [
    {
     "name": "stdout",
     "output_type": "stream",
     "text": [
      "Please enter sentence: 7 days 24 hours\n",
      "9\n",
      "3\n"
     ]
    }
   ],
   "source": [
    "word = input(\"Please enter sentence: \")\n",
    "letters = sum(1 for i in word if i.isalpha())\n",
    "digits = sum(1 for i in word if i.isdigit())\n",
    "print(letters)\n",
    "print(digits)"
   ]
  },
  {
   "cell_type": "code",
   "execution_count": 22,
   "metadata": {},
   "outputs": [
    {
     "name": "stdout",
     "output_type": "stream",
     "text": [
      "Please enter sentence: 7 days 24 hours\n",
      "Sentence has 9 letters and 3 digits\n"
     ]
    }
   ],
   "source": [
    "word = input(\"Please enter sentence: \")\n",
    "letters = sum(1 for i in word if i.isalpha())\n",
    "digits = sum(1 for i in word if i.isdigit())\n",
    "print(\"Sentence has\", letters, \"letters and\", digits, \"digits\")"
   ]
  },
  {
   "cell_type": "code",
   "execution_count": 23,
   "metadata": {},
   "outputs": [
    {
     "name": "stdout",
     "output_type": "stream",
     "text": [
      "[105, 126, 147, 168, 189, 210, 231, 252, 273, 294, 315, 336, 357, 378, 399, 420, 441, 462, 483]\n"
     ]
    }
   ],
   "source": [
    "print([i for i in range(100,501) if not i%7 and not i%3])"
   ]
  },
  {
   "cell_type": "code",
   "execution_count": 25,
   "metadata": {},
   "outputs": [
    {
     "name": "stdout",
     "output_type": "stream",
     "text": [
      "Please enter a sentence:united\n",
      "<class 'str'>\n",
      "<class 'str'>\n",
      "<class 'str'>\n",
      "<class 'str'>\n",
      "<class 'str'>\n",
      "<class 'str'>\n",
      "0\n",
      "0\n"
     ]
    }
   ],
   "source": [
    "digits=[]\n",
    "letters=[]\n",
    "sentence = input('Please enter a sentence:')\n",
    "for i in sentence:\n",
    "    print(type(i))\n",
    "    if i==int:\n",
    "        digits.append(i)\n",
    "    elif i==str:\n",
    "        letters=[]\n",
    "print(len(digits))\n",
    "print(len(letters))"
   ]
  },
  {
   "cell_type": "code",
   "execution_count": null,
   "metadata": {},
   "outputs": [],
   "source": []
  }
 ],
 "metadata": {
  "kernelspec": {
   "display_name": "Python 3",
   "language": "python",
   "name": "python3"
  },
  "language_info": {
   "codemirror_mode": {
    "name": "ipython",
    "version": 3
   },
   "file_extension": ".py",
   "mimetype": "text/x-python",
   "name": "python",
   "nbconvert_exporter": "python",
   "pygments_lexer": "ipython3",
   "version": "3.7.6"
  }
 },
 "nbformat": 4,
 "nbformat_minor": 4
}
