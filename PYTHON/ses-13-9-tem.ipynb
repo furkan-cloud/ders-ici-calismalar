{
 "cells": [
  {
   "cell_type": "code",
   "execution_count": 4,
   "metadata": {},
   "outputs": [
    {
     "name": "stdout",
     "output_type": "stream",
     "text": [
      "Please enter a number between (1-10): 3\n",
      "3x1 = 3\n",
      "3x2 = 6\n",
      "3x3 = 9\n",
      "3x4 = 12\n",
      "3x5 = 15\n",
      "3x6 = 18\n",
      "3x7 = 21\n",
      "3x8 = 24\n",
      "3x9 = 27\n",
      "3x10 = 30\n"
     ]
    }
   ],
   "source": [
    "sayi = int(input(\"Please enter a number between (1-10): \"))\n",
    "liste = list(range(1,11))\n",
    "for i in liste:\n",
    "    print(f\"{sayi}x{i} = {sayi*i}\")"
   ]
  },
  {
   "cell_type": "code",
   "execution_count": 12,
   "metadata": {},
   "outputs": [
    {
     "name": "stdout",
     "output_type": "stream",
     "text": [
      "1 a 0\n",
      "2 b 1\n",
      "3 c 2\n",
      "4 d 3\n",
      "{1: 'a', 2: 'b', 3: 'c', 4: 'd'}\n",
      "[(1, 'a'), (2, 'b'), (3, 'c'), (4, 'd')]\n"
     ]
    }
   ],
   "source": [
    "sayi = [1,2,3,4]\n",
    "harf = [\"a\", \"b\", \"c\",\"d\"]\n",
    "num = [0,1,2,3]\n",
    "for x,y,z in zip(sayi,harf,num):\n",
    "    print(x,y,z)\n",
    "\n",
    "print(dict(zip(sayi,harf)))\n",
    "print(list(zip(sayi,harf)))"
   ]
  },
  {
   "cell_type": "code",
   "execution_count": 18,
   "metadata": {},
   "outputs": [
    {
     "name": "stdout",
     "output_type": "stream",
     "text": [
      "[1, 3, 5, 7, 9]\n",
      "[2, 4, 6, 8, 10]\n"
     ]
    }
   ],
   "source": [
    "evens = []\n",
    "odds = []\n",
    "for i in range(1,11):\n",
    "    if i%2 == 0:\n",
    "        evens.append(i)\n",
    "    else:\n",
    "        odds.append(i)\n",
    "print(odds)\n",
    "print(evens)"
   ]
  },
  {
   "cell_type": "code",
   "execution_count": 20,
   "metadata": {},
   "outputs": [
    {
     "name": "stdout",
     "output_type": "stream",
     "text": [
      "The number of even numbers:  3\n",
      "The number of odd numbers:  4\n"
     ]
    }
   ],
   "source": [
    "liste = [11, 4, 5, 8, 23, 40, 57]\n",
    "k = 0\n",
    "for i in liste:\n",
    "    if i%2 == 0:\n",
    "        k += 1\n",
    "print(\"The number of even numbers: \", k)\n",
    "print(\"The number of odd numbers: \", len(liste)-k)\n",
    "        "
   ]
  },
  {
   "cell_type": "code",
   "execution_count": 22,
   "metadata": {},
   "outputs": [
    {
     "data": {
      "text/plain": [
       "2"
      ]
     },
     "execution_count": 22,
     "metadata": {},
     "output_type": "execute_result"
    }
   ],
   "source": [
    "word = \"determine\"\n",
    "word.index(\"t\")"
   ]
  },
  {
   "cell_type": "code",
   "execution_count": null,
   "metadata": {},
   "outputs": [],
   "source": [
    "def cap_space(txt):\n",
    "    txt.split(\"\")\n",
    "cap_space(\"helloWorld\")"
   ]
  },
  {
   "cell_type": "code",
   "execution_count": 28,
   "metadata": {},
   "outputs": [
    {
     "name": "stdout",
     "output_type": "stream",
     "text": [
      "1\n",
      "22\n",
      "333\n",
      "4444\n",
      "55555\n",
      "666666\n",
      "7777777\n",
      "88888888\n",
      "999999999\n"
     ]
    }
   ],
   "source": [
    "for i in range(1,10):\n",
    "    print(f\"{i}\"*i)"
   ]
  },
  {
   "cell_type": "code",
   "execution_count": 29,
   "metadata": {},
   "outputs": [
    {
     "name": "stdout",
     "output_type": "stream",
     "text": [
      "    1    \n",
      "   333   \n",
      "  55555  \n",
      " 7777777 \n",
      "999999999\n"
     ]
    }
   ],
   "source": [
    "for i in range (1, 10, 2):\n",
    "    print((str(i)*i).center(9))"
   ]
  },
  {
   "cell_type": "code",
   "execution_count": 31,
   "metadata": {},
   "outputs": [
    {
     "name": "stdout",
     "output_type": "stream",
     "text": [
      "Enter a word: Poki\n",
      "['P']\n"
     ]
    }
   ],
   "source": [
    "word = input(\"Enter a word: \")\n",
    "count1 = 0\n",
    "listem = []\n",
    "for a in word:\n",
    "    if (a.isupper()) == True:\n",
    "        count1 += 1\n",
    "        listem.append(a)\n",
    "    else:\n",
    "        count1 += 1\n",
    "print(listem)"
   ]
  },
  {
   "cell_type": "code",
   "execution_count": 41,
   "metadata": {},
   "outputs": [
    {
     "data": {
      "text/plain": [
       "[0, 1, 2, 3, 4, 5]"
      ]
     },
     "execution_count": 41,
     "metadata": {},
     "output_type": "execute_result"
    }
   ],
   "source": [
    "def index_of_caps(word):\n",
    "    return [x for x, y in enumerate(word) if y.isupper()]\n",
    "index_of_caps(\"STRIKE\")"
   ]
  },
  {
   "cell_type": "code",
   "execution_count": 39,
   "metadata": {},
   "outputs": [
    {
     "name": "stdout",
     "output_type": "stream",
     "text": [
      "2775\n"
     ]
    }
   ],
   "source": [
    "total = 0\n",
    "for i in range(1,75):\n",
    "    total += i\n",
    "print(total)"
   ]
  },
  {
   "cell_type": "code",
   "execution_count": 40,
   "metadata": {},
   "outputs": [
    {
     "name": "stdout",
     "output_type": "stream",
     "text": [
      "2775\n"
     ]
    }
   ],
   "source": [
    "print(sum(i for i in range(1,75)))"
   ]
  },
  {
   "cell_type": "code",
   "execution_count": null,
   "metadata": {},
   "outputs": [],
   "source": []
  }
 ],
 "metadata": {
  "kernelspec": {
   "display_name": "Python 3",
   "language": "python",
   "name": "python3"
  },
  "language_info": {
   "codemirror_mode": {
    "name": "ipython",
    "version": 3
   },
   "file_extension": ".py",
   "mimetype": "text/x-python",
   "name": "python",
   "nbconvert_exporter": "python",
   "pygments_lexer": "ipython3",
   "version": "3.7.6"
  }
 },
 "nbformat": 4,
 "nbformat_minor": 4
}
